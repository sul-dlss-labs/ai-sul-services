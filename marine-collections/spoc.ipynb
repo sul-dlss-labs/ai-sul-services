{
 "cells": [
  {
   "cell_type": "markdown",
   "id": "20363ded-8f85-4d3b-8829-fc0cf89ad2bb",
   "metadata": {},
   "source": [
    "# Species Occurrences"
   ]
  },
  {
   "cell_type": "code",
   "execution_count": 2,
   "id": "d3a1a66a-9997-4b88-ba1b-c3ca217e280b",
   "metadata": {},
   "outputs": [],
   "source": [
    "import intake"
   ]
  },
  {
   "cell_type": "code",
   "execution_count": 5,
   "id": "92709668-1a21-4884-891a-f446c92b7c3f",
   "metadata": {},
   "outputs": [],
   "source": [
    "geography = intake.open_catalog('geography.yml')"
   ]
  },
  {
   "cell_type": "code",
   "execution_count": null,
   "id": "30f20245-f3af-4c0e-8720-4cc8332a5a79",
   "metadata": {},
   "outputs": [],
   "source": []
  }
 ],
 "metadata": {
  "kernelspec": {
   "display_name": "Python 3 (ipykernel)",
   "language": "python",
   "name": "python3"
  },
  "language_info": {
   "codemirror_mode": {
    "name": "ipython",
    "version": 3
   },
   "file_extension": ".py",
   "mimetype": "text/x-python",
   "name": "python",
   "nbconvert_exporter": "python",
   "pygments_lexer": "ipython3",
   "version": "3.10.1"
  }
 },
 "nbformat": 4,
 "nbformat_minor": 5
}
